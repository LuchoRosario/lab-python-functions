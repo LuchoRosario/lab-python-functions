{
 "cells": [
  {
   "cell_type": "markdown",
   "id": "25d7736c-ba17-4aff-b6bb-66eba20fbf4e",
   "metadata": {},
   "source": [
    "# Lab | Functions"
   ]
  },
  {
   "cell_type": "markdown",
   "id": "0c581062-8967-4d93-b06e-62833222f930",
   "metadata": {
    "tags": []
   },
   "source": [
    "## Exercise: Managing Customer Orders with Functions\n",
    "\n",
    "In the previous exercise, you improved the code for managing customer orders by using loops and flow control. Now, let's take it a step further and refactor the code by introducing functions.\n",
    "\n",
    "Follow the steps below to complete the exercise:\n",
    "\n",
    "1. Define a function named `initialize_inventory` that takes `products` as a parameter. Inside the function, implement the code for initializing the inventory dictionary using a loop and user input.\n",
    "\n",
    "2. Define a function named `get_customer_orders` that takes no parameters. Inside the function, implement the code for prompting the user to enter the product names using a loop. The function should return the `customer_orders` set.\n",
    "\n",
    "3. Define a function named `update_inventory` that takes `customer_orders` and `inventory` as parameters. Inside the function, implement the code for updating the inventory dictionary based on the customer orders.\n",
    "\n",
    "4. Define a function named `calculate_order_statistics` that takes `customer_orders` and `products` as parameters. Inside the function, implement the code for calculating the order statistics (total products ordered, and percentage of unique products ordered). The function should return these values.\n",
    "\n",
    "5. Define a function named `print_order_statistics` that takes `order_statistics` as a parameter. Inside the function, implement the code for printing the order statistics.\n",
    "\n",
    "6. Define a function named `print_updated_inventory` that takes `inventory` as a parameter. Inside the function, implement the code for printing the updated inventory.\n",
    "\n",
    "7. Call the functions in the appropriate sequence to execute the program and manage customer orders.\n",
    "\n",
    "Hints for functions:\n",
    "\n",
    "- Consider the input parameters required for each function and their return values.\n",
    "- Utilize function parameters and return values to transfer data between functions.\n",
    "- Test your functions individually to ensure they work correctly.\n",
    "\n",
    "\n"
   ]
  },
  {
   "cell_type": "code",
   "execution_count": 14,
   "id": "683a296b",
   "metadata": {},
   "outputs": [],
   "source": [
    "# punto 1\n",
    "products= [\"t-shirt\",\"mug\",\"hat\",\"book\",\"keychain\"]\n",
    "def initialize_inventory(products):\n",
    "    inventory= {}\n",
    "    for product in products:\n",
    "        inventory[product]=int(input(f'number of {product}s:'))\n",
    "    return inventory \n",
    "\n",
    "  "
   ]
  },
  {
   "cell_type": "code",
   "execution_count": 16,
   "id": "3a006343",
   "metadata": {},
   "outputs": [],
   "source": [
    "inventario_mayo= initialize_inventory(products)"
   ]
  },
  {
   "cell_type": "code",
   "execution_count": 17,
   "id": "c245baac",
   "metadata": {},
   "outputs": [],
   "source": [
    "#punto 2\n",
    "def get_customers_orders():\n",
    "  customers_orders= set()\n",
    "  while True:\n",
    "      product= input(\"nombre del producto a ordenar: \")\n",
    "      customers_orders.add(product)\n",
    "      otro_producto= input(\"desea agregar otro producto? (yes/no): \")\n",
    "      if otro_producto != \"yes\":\n",
    "        break \n",
    "  return customers_orders "
   ]
  },
  {
   "cell_type": "code",
   "execution_count": 18,
   "id": "963713e6",
   "metadata": {},
   "outputs": [],
   "source": [
    "ordenes_mayo= get_customers_orders()"
   ]
  },
  {
   "cell_type": "code",
   "execution_count": 19,
   "id": "f9825c51",
   "metadata": {},
   "outputs": [
    {
     "name": "stdout",
     "output_type": "stream",
     "text": [
      "{'hat'}\n"
     ]
    }
   ],
   "source": [
    "print(ordenes_mayo)"
   ]
  },
  {
   "cell_type": "code",
   "execution_count": 20,
   "id": "ca5393d5",
   "metadata": {},
   "outputs": [],
   "source": [
    "#punto 3\n",
    "def update_inventory(customers_orders,inventory):\n",
    "    copy_inventory = inventory.copy()\n",
    "    for product in customers_orders:\n",
    "        if product in inventory:\n",
    "            copy_inventory[product] -= 1\n",
    "    return copy_inventory\n"
   ]
  },
  {
   "cell_type": "code",
   "execution_count": 22,
   "id": "7f66fb7b",
   "metadata": {},
   "outputs": [],
   "source": [
    "new_inventory = update_inventory(ordenes_mayo, inventario_mayo)"
   ]
  },
  {
   "cell_type": "code",
   "execution_count": 23,
   "id": "121f9bb4",
   "metadata": {},
   "outputs": [
    {
     "data": {
      "text/plain": [
       "{'t-shirt': 2, 'mug': 3, 'hat': 1, 'book': 3, 'keychain': 2}"
      ]
     },
     "execution_count": 23,
     "metadata": {},
     "output_type": "execute_result"
    }
   ],
   "source": [
    "new_inventory"
   ]
  },
  {
   "cell_type": "code",
   "execution_count": 27,
   "id": "db46f3c8",
   "metadata": {},
   "outputs": [],
   "source": [
    "#punto 4\n",
    "def calculate_orders_statistics(customers_orders, products):\n",
    "    total_products_orders= len(customers_orders)\n",
    "    percent_unique_products= total_products_orders/len(products)*100 \n",
    "    return total_products_orders, percent_unique_products\n",
    "\n"
   ]
  },
  {
   "cell_type": "code",
   "execution_count": 28,
   "id": "6fdbec38",
   "metadata": {},
   "outputs": [],
   "source": [
    "orders_statistics= calculate_orders_statistics(ordenes_mayo,products)"
   ]
  },
  {
   "cell_type": "code",
   "execution_count": 35,
   "id": "f9540435",
   "metadata": {},
   "outputs": [],
   "source": [
    "#punto 5\n",
    "def print_orders_statistics(orders_statistics):\n",
    "    print(f\"total_products_orders:{orders_statistics[0]},percent_unique_products:{orders_statistics[1]}\")\n",
    "         \n",
    "         "
   ]
  },
  {
   "cell_type": "code",
   "execution_count": 42,
   "id": "e494a66d",
   "metadata": {},
   "outputs": [
    {
     "name": "stdout",
     "output_type": "stream",
     "text": [
      "total_products_orders:1,percent_unique_products:20.0\n"
     ]
    }
   ],
   "source": [
    "print_orders_statistics(orders_statistics)"
   ]
  },
  {
   "cell_type": "code",
   "execution_count": 40,
   "id": "2648be2f",
   "metadata": {},
   "outputs": [],
   "source": [
    "#punto 6\n",
    "def print_updated_inventory(inventory):\n",
    "    for product in inventory:\n",
    "        print(f\" There are {inventory[product]} of {product}\")\n",
    "\n",
    "    "
   ]
  },
  {
   "cell_type": "code",
   "execution_count": 41,
   "id": "e8c46f08",
   "metadata": {},
   "outputs": [
    {
     "name": "stdout",
     "output_type": "stream",
     "text": [
      " There are 2 of t-shirt\n",
      " There are 3 of mug\n",
      " There are 1 of hat\n",
      " There are 3 of book\n",
      " There are 2 of keychain\n"
     ]
    }
   ],
   "source": [
    "print_updated_inventory(new_inventory)"
   ]
  },
  {
   "cell_type": "code",
   "execution_count": 43,
   "id": "e379f6ff",
   "metadata": {},
   "outputs": [
    {
     "name": "stdout",
     "output_type": "stream",
     "text": [
      "total_products_orders:1,percent_unique_products:20.0\n",
      " There are 5 of t-shirt\n",
      " There are 5 of mug\n",
      " There are 4 of hat\n",
      " There are 5 of book\n",
      " There are 5 of keychain\n"
     ]
    }
   ],
   "source": [
    "inventario_mayo= initialize_inventory(products)\n",
    "ordenes_mayo= get_customers_orders()\n",
    "new_inventory = update_inventory(ordenes_mayo, inventario_mayo)\n",
    "orders_statistics= calculate_orders_statistics(ordenes_mayo,products)\n",
    "print_orders_statistics(orders_statistics)\n",
    "print_updated_inventory(new_inventory)"
   ]
  }
 ],
 "metadata": {
  "kernelspec": {
   "display_name": "base",
   "language": "python",
   "name": "python3"
  },
  "language_info": {
   "codemirror_mode": {
    "name": "ipython",
    "version": 3
   },
   "file_extension": ".py",
   "mimetype": "text/x-python",
   "name": "python",
   "nbconvert_exporter": "python",
   "pygments_lexer": "ipython3",
   "version": "3.12.7"
  }
 },
 "nbformat": 4,
 "nbformat_minor": 5
}
